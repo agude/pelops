{
 "cells": [
  {
   "cell_type": "code",
   "execution_count": 1,
   "metadata": {
    "collapsed": false
   },
   "outputs": [
    {
     "name": "stderr",
     "output_type": "stream",
     "text": [
      "Using TensorFlow backend.\n"
     ]
    }
   ],
   "source": [
    "from pelops.datasets.veri import VeriDataset\n",
    "from pelops.analysis.unsorted.recompute.extract_feats_from_chips import extract_feats_from_chips\n",
    "import pelops.utils as utils"
   ]
  },
  {
   "cell_type": "code",
   "execution_count": null,
   "metadata": {
    "collapsed": true
   },
   "outputs": [],
   "source": [
    "MODEL_DIR = '/local_data/teams/pelops/models/grossman/'\n",
    "\n",
    "MODEL_AND_WEIGHTS = ( \n",
    "    (\"dgcars_body_type\", MODEL_DIR + 'dgcars_resenet-body_type.model.json', MODEL_DIR + 'dgcars_resenet-body_type.weights.hdf5'),\n",
    "    (\"dgcars_color\", MODEL_DIR + 'dgcars_resenet-color.model.json', MODEL_DIR + 'dgcars_resenet-color.weights.hdf5'),\n",
    "    (\"dgcars_color_body_type\", MODEL_DIR + 'dgcars_resenet-color_body_type.model2.json', MODEL_DIR + 'dgcars_resenet-color_body_type.weights2.hdf5'),\n",
    "    (\"dgcars_make_model\", MODEL_DIR + 'dgcars_resenet-make_model.model.json', MODEL_DIR + 'dgcars_resenet-make_model.weights.hdf5'),\n",
    "    (\"dgcars_resnet\", MODEL_DIR + 'dgcars_resenet.model.json', MODEL_DIR + 'dgcars_resenet.weights.hdf5'),\n",
    "    (\"compcars_make_model\", MODEL_DIR + 'compcars_resenet-make_model.model.json', MODEL_DIR + 'compcars_resenet-make_model.weights.hdf5'),\n",
    "    (\"compcars_color\", MODEL_DIR + 'compcars_resenet-colors.model.json', MODEL_DIR + 'compcars_resenet-colors.weights.hdf5'),\n",
    ")\n",
    "\n",
    "LAYER = 'avg_pool'"
   ]
  },
  {
   "cell_type": "code",
   "execution_count": null,
   "metadata": {
    "collapsed": false
   },
   "outputs": [],
   "source": [
    "for pixel_count in range(30, 240, 10):\n",
    "    base_dir = \"/local_data/teams/pelops/datasets/VeRI_{}px/\".format(pixel_count)\n",
    "    veri = VeriDataset(base_dir, set_type=utils.SetType.TEST.value)\n",
    "    \n",
    "    for output_name, model_file, weights_file in MODEL_AND_WEIGHTS:\n",
    "        extract_feats_from_chips(\n",
    "            veri,\n",
    "            base_dir + '{}_{}px_TEST.hdf5'.format(output_name, pixel_count),\n",
    "            model_file,\n",
    "            weights_file,\n",
    "            LAYER\n",
    "        )"
   ]
  }
 ],
 "metadata": {
  "anaconda-cloud": {},
  "kernelspec": {
   "display_name": "Python 3",
   "language": "python",
   "name": "python3"
  },
  "language_info": {
   "codemirror_mode": {
    "name": "ipython",
    "version": 3
   },
   "file_extension": ".py",
   "mimetype": "text/x-python",
   "name": "python",
   "nbconvert_exporter": "python",
   "pygments_lexer": "ipython3",
   "version": "3.5.2"
  }
 },
 "nbformat": 4,
 "nbformat_minor": 2
}
